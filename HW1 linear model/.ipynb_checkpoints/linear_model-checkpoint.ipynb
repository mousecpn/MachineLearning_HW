{
 "cells": [
  {
   "cell_type": "code",
   "execution_count": 1,
   "id": "5496e0bb",
   "metadata": {},
   "outputs": [],
   "source": [
    "import numpy as np\n",
    "from matplotlib import pyplot as plt\n",
    "from sklearn.model_selection import train_test_split"
   ]
  },
  {
   "cell_type": "code",
   "execution_count": 2,
   "id": "cfe77d3a",
   "metadata": {},
   "outputs": [
    {
     "name": "stdout",
     "output_type": "stream",
     "text": [
      "float64\n"
     ]
    }
   ],
   "source": [
    "# loading data\n",
    "data = np.loadtxt('data1.txt',delimiter=',')\n",
    "# npy: np.load_npy\n",
    "# excel: pd.read_excel\n",
    "# csv: pd.read_csv\n",
    "# print(data.shape)\n",
    "num_feature = data.shape[1] - 1\n",
    "data = data.astype('float32')\n"
   ]
  },
  {
   "cell_type": "code",
   "execution_count": 3,
   "id": "fa4ce4f3",
   "metadata": {},
   "outputs": [],
   "source": [
    "# preprocessing\n",
    "data_train, data_test = train_test_split(data, test_size=0.3, random_state=42)\n",
    "\n",
    "# data normalization\n",
    "from sklearn.preprocessing import StandardScaler\n",
    "\n",
    "scaler = StandardScaler()\n",
    "data_train = scaler.fit_transform(data_train)\n",
    "data_test = scaler.transform(data_train)\n",
    "\n",
    "\n",
    "X_train = data_train[:, :2]\n",
    "y_train = data_train[:, 2]\n",
    "X_test = data_test[:, :2]\n",
    "y_test = data_test[:, 2]"
   ]
  },
  {
   "cell_type": "code",
   "execution_count": 4,
   "id": "94065a0a",
   "metadata": {},
   "outputs": [],
   "source": [
    "# build model\n",
    "from sklearn.linear_model import LinearRegression\n",
    "model = LinearRegression()"
   ]
  },
  {
   "cell_type": "code",
   "execution_count": 5,
   "id": "6b3137aa",
   "metadata": {},
   "outputs": [
    {
     "name": "stdout",
     "output_type": "stream",
     "text": [
      "mae: 0.6216969\n",
      "r2: -4839064600.967225\n"
     ]
    }
   ],
   "source": [
    "# training and validation\n",
    "model.fit(X_train, y_train)\n",
    "y_pred = model.predict(X_test)\n",
    "mae = np.abs(y_pred - y_test).mean()\n",
    "print(\"mae:\", mae)\n",
    "from sklearn.metrics import r2_score\n",
    "r2 = r2_score(y_test, y_pred)\n",
    "print(\"r2:\", r2)"
   ]
  },
  {
   "cell_type": "code",
   "execution_count": null,
   "id": "b751b6bd",
   "metadata": {},
   "outputs": [],
   "source": []
  }
 ],
 "metadata": {
  "kernelspec": {
   "display_name": "Python [conda env:ML]",
   "language": "python",
   "name": "conda-env-ML-py"
  },
  "language_info": {
   "codemirror_mode": {
    "name": "ipython",
    "version": 3
   },
   "file_extension": ".py",
   "mimetype": "text/x-python",
   "name": "python",
   "nbconvert_exporter": "python",
   "pygments_lexer": "ipython3",
   "version": "3.7.11"
  }
 },
 "nbformat": 4,
 "nbformat_minor": 5
}
