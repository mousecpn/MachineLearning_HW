{
 "cells": [
  {
   "cell_type": "code",
   "execution_count": 1,
   "metadata": {},
   "outputs": [],
   "source": [
    "import numpy as np\n",
    "from scipy.io import loadmat\n",
    "from sklearn.model_selection import train_test_split\n",
    "from matplotlib import pyplot as plt"
   ]
  },
  {
   "cell_type": "code",
   "execution_count": 91,
   "metadata": {},
   "outputs": [],
   "source": [
    "# data loading\n",
    "data = loadmat('data1.mat')\n",
    "X = data['X']\n",
    "X_train,X_test=train_test_split(X,random_state=1,train_size=0.7,test_size=0.3)\n",
    "num_feature = X.shape[1]"
   ]
  },
  {
   "cell_type": "code",
   "execution_count": 81,
   "metadata": {},
   "outputs": [],
   "source": [
    "# normalization\n",
    "X_norm = X.copy()\n",
    "maximum = np.max(X_norm,axis=0,keepdims=True)\n",
    "minimun = np.min(X_norm,axis=0,keepdims=True)\n",
    "X_norm = (X_norm - minimun)/(maximum - minimun)"
   ]
  },
  {
   "cell_type": "code",
   "execution_count": 82,
   "metadata": {},
   "outputs": [],
   "source": [
    "cov = np.matmul(X_norm.T,X_norm)"
   ]
  },
  {
   "cell_type": "code",
   "execution_count": 83,
   "metadata": {},
   "outputs": [
    {
     "name": "stdout",
     "output_type": "stream",
     "text": [
      "[33.66723197  0.74104574]\n",
      "[[ 0.77737765 -0.62903417]\n",
      " [ 0.62903417  0.77737765]]\n"
     ]
    }
   ],
   "source": [
    "eig, vec = np.linalg.eig(cov)\n",
    "idxes = np.argsort(eig)\n",
    "idxes = idxes[::-1]\n",
    "vec_sort = vec[idxes,:]\n",
    "eig_sort = eig[idxes]\n",
    "print(eig_sort)\n",
    "print(vec_sort)"
   ]
  },
  {
   "cell_type": "code",
   "execution_count": 84,
   "metadata": {},
   "outputs": [],
   "source": [
    "shrink_ratio = 0.3\n",
    "# num_feat_pca = int(0.3*num_feature)\n",
    "num_feat_pca = 1"
   ]
  },
  {
   "cell_type": "code",
   "execution_count": 85,
   "metadata": {},
   "outputs": [],
   "source": [
    "W = vec[:,:num_feat_pca]"
   ]
  },
  {
   "cell_type": "code",
   "execution_count": 86,
   "metadata": {},
   "outputs": [
    {
     "data": {
      "text/plain": [
       "(2, 1)"
      ]
     },
     "execution_count": 86,
     "metadata": {},
     "output_type": "execute_result"
    }
   ],
   "source": [
    "W.shape"
   ]
  },
  {
   "cell_type": "code",
   "execution_count": 90,
   "metadata": {},
   "outputs": [
    {
     "data": {
      "text/plain": [
       "[<matplotlib.lines.Line2D at 0x21f8e1e70f0>]"
      ]
     },
     "execution_count": 90,
     "metadata": {},
     "output_type": "execute_result"
    },
    {
     "data": {
      "image/png": "[encoded data removed]",
      "text/plain": [
       "<Figure size 432x288 with 1 Axes>"
      ]
     },
     "metadata": {
      "needs_background": "light"
     },
     "output_type": "display_data"
    }
   ],
   "source": [
    "X_reduct = np.matmul(X_norm,W)\n",
    "X_reduct = np.matmul(X_reduct,W.T)\n",
    "plt.scatter(X_norm[:,0],X_norm[:,1],c='b')\n",
    "plt.plot(X_reduct[:,0],X_reduct[:,1],c='r')"
   ]
  },
  {
   "cell_type": "code",
   "execution_count": null,
   "metadata": {},
   "outputs": [],
   "source": []
  }
 ],
 "metadata": {
  "kernelspec": {
   "display_name": "Python 3",
   "language": "python",
   "name": "python3"
  },
  "language_info": {
   "codemirror_mode": {
    "name": "ipython",
    "version": 3
   },
   "file_extension": ".py",
   "mimetype": "text/x-python",
   "name": "python",
   "nbconvert_exporter": "python",
   "pygments_lexer": "ipython3",
   "version": "3.7.0"
  }
 },
 "nbformat": 4,
 "nbformat_minor": 2
}
